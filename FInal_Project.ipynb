{
  "nbformat": 4,
  "nbformat_minor": 0,
  "metadata": {
    "colab": {
      "name": "FInal_Project.ipynb",
      "provenance": [],
      "collapsed_sections": []
    },
    "kernelspec": {
      "name": "python3",
      "display_name": "Python 3"
    }
  },
  "cells": [
    {
      "cell_type": "code",
      "metadata": {
        "colab": {
          "base_uri": "https://localhost:8080/",
          "height": 419
        },
        "id": "8_3Rz9XJ2xPX",
        "outputId": "706d5341-3e9e-4379-8c78-d8c360bc57a7"
      },
      "source": [
        "import pandas as pd\n",
        "dataset = pd.read_csv (\"https://raw.githubusercontent.com/Shahzad-Siddiqui/data-science/main/OLX_Car_Data_CSV.csv\")\n",
        "dataset"
      ],
      "execution_count": null,
      "outputs": [
        {
          "output_type": "execute_result",
          "data": {
            "text/html": [
              "<div>\n",
              "<style scoped>\n",
              "    .dataframe tbody tr th:only-of-type {\n",
              "        vertical-align: middle;\n",
              "    }\n",
              "\n",
              "    .dataframe tbody tr th {\n",
              "        vertical-align: top;\n",
              "    }\n",
              "\n",
              "    .dataframe thead th {\n",
              "        text-align: right;\n",
              "    }\n",
              "</style>\n",
              "<table border=\"1\" class=\"dataframe\">\n",
              "  <thead>\n",
              "    <tr style=\"text-align: right;\">\n",
              "      <th></th>\n",
              "      <th>Brand</th>\n",
              "      <th>Condition</th>\n",
              "      <th>Fuel</th>\n",
              "      <th>KMs Driven</th>\n",
              "      <th>Model</th>\n",
              "      <th>Price</th>\n",
              "      <th>Registered City</th>\n",
              "      <th>Transaction Type</th>\n",
              "      <th>Year</th>\n",
              "    </tr>\n",
              "  </thead>\n",
              "  <tbody>\n",
              "    <tr>\n",
              "      <th>0</th>\n",
              "      <td>2</td>\n",
              "      <td>0</td>\n",
              "      <td>3</td>\n",
              "      <td>34567</td>\n",
              "      <td>Prado</td>\n",
              "      <td>2100000</td>\n",
              "      <td>1</td>\n",
              "      <td>1</td>\n",
              "      <td>1997</td>\n",
              "    </tr>\n",
              "    <tr>\n",
              "      <th>1</th>\n",
              "      <td>1</td>\n",
              "      <td>0</td>\n",
              "      <td>1</td>\n",
              "      <td>45321</td>\n",
              "      <td>Bolan</td>\n",
              "      <td>380000</td>\n",
              "      <td>1</td>\n",
              "      <td>1</td>\n",
              "      <td>2006</td>\n",
              "    </tr>\n",
              "    <tr>\n",
              "      <th>2</th>\n",
              "      <td>1</td>\n",
              "      <td>0</td>\n",
              "      <td>2</td>\n",
              "      <td>12345</td>\n",
              "      <td>Bolan</td>\n",
              "      <td>340000</td>\n",
              "      <td>1</td>\n",
              "      <td>1</td>\n",
              "      <td>1998</td>\n",
              "    </tr>\n",
              "    <tr>\n",
              "      <th>3</th>\n",
              "      <td>1</td>\n",
              "      <td>0</td>\n",
              "      <td>1</td>\n",
              "      <td>94000</td>\n",
              "      <td>Alto</td>\n",
              "      <td>535000</td>\n",
              "      <td>1</td>\n",
              "      <td>1</td>\n",
              "      <td>2010</td>\n",
              "    </tr>\n",
              "    <tr>\n",
              "      <th>4</th>\n",
              "      <td>2</td>\n",
              "      <td>0</td>\n",
              "      <td>1</td>\n",
              "      <td>45321</td>\n",
              "      <td>Corolla0XLI</td>\n",
              "      <td>1430000</td>\n",
              "      <td>1</td>\n",
              "      <td>1</td>\n",
              "      <td>2013</td>\n",
              "    </tr>\n",
              "    <tr>\n",
              "      <th>...</th>\n",
              "      <td>...</td>\n",
              "      <td>...</td>\n",
              "      <td>...</td>\n",
              "      <td>...</td>\n",
              "      <td>...</td>\n",
              "      <td>...</td>\n",
              "      <td>...</td>\n",
              "      <td>...</td>\n",
              "      <td>...</td>\n",
              "    </tr>\n",
              "    <tr>\n",
              "      <th>7849</th>\n",
              "      <td>2</td>\n",
              "      <td>0</td>\n",
              "      <td>2</td>\n",
              "      <td>200000</td>\n",
              "      <td>Corolla0XE</td>\n",
              "      <td>1070000</td>\n",
              "      <td>2</td>\n",
              "      <td>1</td>\n",
              "      <td>2001</td>\n",
              "    </tr>\n",
              "    <tr>\n",
              "      <th>7850</th>\n",
              "      <td>4</td>\n",
              "      <td>1</td>\n",
              "      <td>1</td>\n",
              "      <td>10000</td>\n",
              "      <td>Cuore</td>\n",
              "      <td>390000</td>\n",
              "      <td>1</td>\n",
              "      <td>1</td>\n",
              "      <td>2004</td>\n",
              "    </tr>\n",
              "    <tr>\n",
              "      <th>7851</th>\n",
              "      <td>16</td>\n",
              "      <td>0</td>\n",
              "      <td>2</td>\n",
              "      <td>158715</td>\n",
              "      <td>Other</td>\n",
              "      <td>180000</td>\n",
              "      <td>0</td>\n",
              "      <td>1</td>\n",
              "      <td>2000</td>\n",
              "    </tr>\n",
              "    <tr>\n",
              "      <th>7852</th>\n",
              "      <td>1</td>\n",
              "      <td>0</td>\n",
              "      <td>1</td>\n",
              "      <td>75236</td>\n",
              "      <td>Alto</td>\n",
              "      <td>470000</td>\n",
              "      <td>5</td>\n",
              "      <td>1</td>\n",
              "      <td>2003</td>\n",
              "    </tr>\n",
              "    <tr>\n",
              "      <th>7853</th>\n",
              "      <td>2</td>\n",
              "      <td>0</td>\n",
              "      <td>1</td>\n",
              "      <td>48500</td>\n",
              "      <td>Corolla0GLI</td>\n",
              "      <td>2050000</td>\n",
              "      <td>2</td>\n",
              "      <td>1</td>\n",
              "      <td>2017</td>\n",
              "    </tr>\n",
              "  </tbody>\n",
              "</table>\n",
              "<p>7854 rows × 9 columns</p>\n",
              "</div>"
            ],
            "text/plain": [
              "      Brand  Condition  Fuel  ...  Registered City Transaction Type  Year\n",
              "0         2          0     3  ...                1                1  1997\n",
              "1         1          0     1  ...                1                1  2006\n",
              "2         1          0     2  ...                1                1  1998\n",
              "3         1          0     1  ...                1                1  2010\n",
              "4         2          0     1  ...                1                1  2013\n",
              "...     ...        ...   ...  ...              ...              ...   ...\n",
              "7849      2          0     2  ...                2                1  2001\n",
              "7850      4          1     1  ...                1                1  2004\n",
              "7851     16          0     2  ...                0                1  2000\n",
              "7852      1          0     1  ...                5                1  2003\n",
              "7853      2          0     1  ...                2                1  2017\n",
              "\n",
              "[7854 rows x 9 columns]"
            ]
          },
          "metadata": {
            "tags": []
          },
          "execution_count": 43
        }
      ]
    },
    {
      "cell_type": "code",
      "metadata": {
        "id": "cFndUGcIlwcW"
      },
      "source": [
        ""
      ],
      "execution_count": null,
      "outputs": []
    },
    {
      "cell_type": "code",
      "metadata": {
        "colab": {
          "base_uri": "https://localhost:8080/"
        },
        "id": "TExxk2EClw8f",
        "outputId": "fa81932b-5797-4f9e-f08e-e79319976944"
      },
      "source": [
        "import pandas as pd\n",
        "import sklearn\n",
        "dataset = pd.read_csv (\"https://raw.githubusercontent.com/Shahzad-Siddiqui/data-science/main/OLX_Car_Data_CSV.csv\")\n",
        "\n",
        "x = dataset.drop (['Model', 'Price'], axis = 1)\n",
        "y = dataset['Price']\n",
        "dataset\n",
        "x.shape\n"
      ],
      "execution_count": null,
      "outputs": [
        {
          "output_type": "execute_result",
          "data": {
            "text/plain": [
              "(7854, 7)"
            ]
          },
          "metadata": {
            "tags": []
          },
          "execution_count": 44
        }
      ]
    },
    {
      "cell_type": "code",
      "metadata": {
        "colab": {
          "base_uri": "https://localhost:8080/"
        },
        "id": "01cdqzreo_D1",
        "outputId": "71b602c2-4337-406d-d23b-7898738cc366"
      },
      "source": [
        "from sklearn.model_selection import train_test_split\n",
        "X_train, X_test, y_train, y_test = train_test_split (x,y, test_size = 0.2, random_state=0)\n",
        "print (X_train.shape)\n",
        "print (X_test.shape)\n",
        "print (y_train.shape)\n",
        "print (y_test.shape)\n"
      ],
      "execution_count": null,
      "outputs": [
        {
          "output_type": "stream",
          "text": [
            "(6283, 7)\n",
            "(1571, 7)\n",
            "(6283,)\n",
            "(1571,)\n"
          ],
          "name": "stdout"
        }
      ]
    },
    {
      "cell_type": "code",
      "metadata": {
        "id": "sYtpWuoeqal1"
      },
      "source": [
        ""
      ],
      "execution_count": null,
      "outputs": []
    },
    {
      "cell_type": "code",
      "metadata": {
        "colab": {
          "base_uri": "https://localhost:8080/"
        },
        "id": "tuvs9TZ5qb8V",
        "outputId": "159a3a7c-bab5-4a0b-eb3c-13aa1252f288"
      },
      "source": [
        "\n",
        "import pandas as pd\n",
        "import sklearn\n",
        "dataset = pd.read_csv (\"https://raw.githubusercontent.com/Shahzad-Siddiqui/data-science/main/OLX_Car_Data_CSV.csv\")\n",
        "X = dataset.drop (['Model', 'Price'], axis = 1)\n",
        "X.shape\n",
        "y = dataset['Price']\n",
        "y\n",
        "from sklearn.linear_model import LinearRegression\n",
        "from sklearn.model_selection import train_test_split\n",
        "X_train, X_test, y_train, y_test = train_test_split(X, y, test_size=0.2, random_state=0)\n",
        "model = LinearRegression()\n",
        "\n",
        "lr = model.fit(X_train, y_train)\n",
        "y_pred = lr.predict(X_test)\n",
        "lr.score(X_test,y_test)"
      ],
      "execution_count": null,
      "outputs": [
        {
          "output_type": "execute_result",
          "data": {
            "text/plain": [
              "0.05562115952896074"
            ]
          },
          "metadata": {
            "tags": []
          },
          "execution_count": 46
        }
      ]
    },
    {
      "cell_type": "code",
      "metadata": {
        "colab": {
          "base_uri": "https://localhost:8080/"
        },
        "id": "mBI0ws117PUR",
        "outputId": "32f08824-a87b-4b5e-bf01-a07aeecb2802"
      },
      "source": [
        "import pandas as pd\n",
        "import sklearn\n",
        "dataset = pd.read_csv (\"https://raw.githubusercontent.com/Shahzad-Siddiqui/data-science/main/OLX_Car_Data_CSV.csv\")\n",
        "X = dataset.drop (['Model', 'Price'], axis = 1)\n",
        "X.shape\n",
        "y = dataset['Price']\n",
        "y\n",
        "from sklearn.linear_model import LinearRegression\n",
        "from sklearn.model_selection import train_test_split\n",
        "X_train, X_test, y_train, y_test = train_test_split(X, y, test_size=0.2, random_state=0)\n",
        "model = LinearRegression()\n",
        "\n",
        "lr = model.fit(X_train[['Year']], y_train)\n",
        "y_pred = lr.predict(X_test[['Year']])\n",
        "lr.score(X_test[['Year']],y_test)"
      ],
      "execution_count": null,
      "outputs": [
        {
          "output_type": "execute_result",
          "data": {
            "text/plain": [
              "0.03420525455155721"
            ]
          },
          "metadata": {
            "tags": []
          },
          "execution_count": 47
        }
      ]
    },
    {
      "cell_type": "code",
      "metadata": {
        "colab": {
          "base_uri": "https://localhost:8080/"
        },
        "id": "CFP4b1xs78TC",
        "outputId": "4fd86016-5975-439e-f697-b6b59c5c8e61"
      },
      "source": [
        "import pandas as pd\n",
        "import sklearn\n",
        "dataset = pd.read_csv (\"https://raw.githubusercontent.com/Shahzad-Siddiqui/data-science/main/OLX_Car_Data_CSV.csv\")\n",
        "#Drop :\n",
        "X = dataset.drop (['Model', 'Price'], axis = 1)\n",
        "X.shape\n",
        "y = dataset['Price']\n",
        "y\n",
        "from sklearn.linear_model import LinearRegression\n",
        "from sklearn.model_selection import train_test_split\n",
        "X_train, X_test, y_train, y_test = train_test_split(X, y, test_size=0.2, random_state=0)\n",
        "model = LinearRegression()\n",
        "\n",
        "lr = model.fit(X_train [['Registered City']], y_train)\n",
        "y_pred = lr.predict(X_test[['Registered City']])\n",
        "lr.score(X_test[['Registered City']],y_test)"
      ],
      "execution_count": null,
      "outputs": [
        {
          "output_type": "execute_result",
          "data": {
            "text/plain": [
              "-0.0007769369273409321"
            ]
          },
          "metadata": {
            "tags": []
          },
          "execution_count": 48
        }
      ]
    },
    {
      "cell_type": "code",
      "metadata": {
        "colab": {
          "base_uri": "https://localhost:8080/"
        },
        "id": "ywfD_FKt8LVf",
        "outputId": "cbeeb1e9-00c0-4010-d566-7a82d8014945"
      },
      "source": [
        "import pandas as pd\n",
        "import sklearn\n",
        "dataset = pd.read_csv (\"https://raw.githubusercontent.com/Shahzad-Siddiqui/data-science/main/OLX_Car_Data_CSV.csv\")\n",
        "\n",
        "X = dataset.drop (['Model', 'Price'], axis = 1)\n",
        "X.shape\n",
        "y = dataset['Price']\n",
        "y\n",
        "from sklearn.linear_model import LinearRegression\n",
        "from sklearn.model_selection import train_test_split\n",
        "X_train, X_test, y_train, y_test = train_test_split(X, y, test_size=0.2, random_state=0)\n",
        "model = LinearRegression()\n",
        "\n",
        "lr = model.fit(X_train[['Condition']], y_train)\n",
        "y_pred = lr.predict(X_test[['Condition']])\n",
        "lr.score(X_test[['Condition']],y_test)"
      ],
      "execution_count": null,
      "outputs": [
        {
          "output_type": "execute_result",
          "data": {
            "text/plain": [
              "0.021189736832478046"
            ]
          },
          "metadata": {
            "tags": []
          },
          "execution_count": 49
        }
      ]
    },
    {
      "cell_type": "code",
      "metadata": {
        "colab": {
          "base_uri": "https://localhost:8080/"
        },
        "id": "RXmAjzcM8Q-Y",
        "outputId": "4f5d2097-7c0b-4262-9195-a6c588f91e87"
      },
      "source": [
        "import pandas as pd\n",
        "import sklearn\n",
        "dataset = pd.read_csv (\"https://raw.githubusercontent.com/Shahzad-Siddiqui/data-science/main/OLX_Car_Data_CSV.csv\")\n",
        "\n",
        "X = dataset.drop (['Model', 'Price'], axis = 1)\n",
        "X.shape\n",
        "y = dataset['Price']\n",
        "y\n",
        "from sklearn.linear_model import LinearRegression\n",
        "from sklearn.model_selection import train_test_split\n",
        "X_train, X_test, y_train, y_test = train_test_split(X, y, test_size=0.2, random_state=0)\n",
        "model = LinearRegression()\n",
        "\n",
        "lr = model.fit(X_train[['Brand']], y_train)\n",
        "y_pred = lr.predict(X_test[['Brand']])\n",
        "lr.score(X_test[['Brand']],y_test)"
      ],
      "execution_count": null,
      "outputs": [
        {
          "output_type": "execute_result",
          "data": {
            "text/plain": [
              "-0.0011205911687379722"
            ]
          },
          "metadata": {
            "tags": []
          },
          "execution_count": 50
        }
      ]
    },
    {
      "cell_type": "code",
      "metadata": {
        "colab": {
          "base_uri": "https://localhost:8080/"
        },
        "id": "1URZaqUz9KOh",
        "outputId": "b38de4f6-5844-4d85-ecb0-ab7fbc6cef41"
      },
      "source": [
        "import pandas as pd\n",
        "import sklearn\n",
        "dataset = pd.read_csv (\"https://raw.githubusercontent.com/Shahzad-Siddiqui/data-science/main/OLX_Car_Data_CSV.csv\")\n",
        "\n",
        "X = dataset.drop (['Model', 'Condition', 'Price'], axis = 1)\n",
        "X.shape\n",
        "y = dataset['Price']\n",
        "y\n",
        "from sklearn.linear_model import LinearRegression\n",
        "from sklearn.model_selection import train_test_split\n",
        "X_train, X_test, y_train, y_test = train_test_split(X, y, test_size=0.2, random_state=0)\n",
        "model = LinearRegression()\n",
        "\n",
        "lr = model.fit(X_train[['KMs Driven']], y_train)\n",
        "y_pred = lr.predict(X_test[['KMs Driven']])\n",
        "lr.score(X_test[['KMs Driven']],y_test)"
      ],
      "execution_count": null,
      "outputs": [
        {
          "output_type": "execute_result",
          "data": {
            "text/plain": [
              "4.2641064150639174e-05"
            ]
          },
          "metadata": {
            "tags": []
          },
          "execution_count": 51
        }
      ]
    },
    {
      "cell_type": "code",
      "metadata": {
        "colab": {
          "base_uri": "https://localhost:8080/"
        },
        "id": "3bYN0GCi9Ta6",
        "outputId": "6993b0bb-a70e-4dfc-9f56-57eed189f0de"
      },
      "source": [
        "import pandas as pd\n",
        "import sklearn\n",
        "dataset = pd.read_csv (\"https://raw.githubusercontent.com/Shahzad-Siddiqui/data-science/main/OLX_Car_Data_CSV.csv\")\n",
        "#Independent variables Model & Fuel\n",
        "X = dataset.drop (['Model','Price'], axis = 1)\n",
        "X.shape\n",
        "y = dataset['Price']\n",
        "y\n",
        "from sklearn.linear_model import LinearRegression\n",
        "from sklearn.model_selection import train_test_split\n",
        "X_train, X_test, y_train, y_test = train_test_split(X, y, test_size=0.2, random_state=0)\n",
        "model = LinearRegression()\n",
        "\n",
        "lr = model.fit(X_train[['Fuel']], y_train)\n",
        "y_pred = lr.predict(X_test[['Fuel']])\n",
        "lr.score(X_test[['Fuel']],y_test)"
      ],
      "execution_count": null,
      "outputs": [
        {
          "output_type": "execute_result",
          "data": {
            "text/plain": [
              "-0.0012514928832778605"
            ]
          },
          "metadata": {
            "tags": []
          },
          "execution_count": 52
        }
      ]
    },
    {
      "cell_type": "code",
      "metadata": {
        "colab": {
          "base_uri": "https://localhost:8080/"
        },
        "id": "dsbrbYlu9fXS",
        "outputId": "6258a348-d927-4b66-e9c5-dc8308331653"
      },
      "source": [
        "import pandas as pd\n",
        "import sklearn\n",
        "dataset = pd.read_csv (\"https://raw.githubusercontent.com/Shahzad-Siddiqui/data-science/main/OLX_Car_Data_CSV.csv\")\n",
        " \n",
        "X = dataset.drop (['Model', 'Price'], axis = 1)\n",
        "X.shape\n",
        "y = dataset['Price']\n",
        "y\n",
        "from sklearn.linear_model import LinearRegression\n",
        "from sklearn.model_selection import train_test_split\n",
        "X_train, X_test, y_train, y_test = train_test_split(X, y, test_size=0.2, random_state=0)\n",
        "model = LinearRegression()\n",
        "\n",
        "lr = model.fit(X_train[['Brand', 'Year']], y_train)\n",
        "y_pred = lr.predict(X_test[['Brand', 'Year']])\n",
        "lr.score(X_test[['Brand', 'Year']],y_test)"
      ],
      "execution_count": null,
      "outputs": [
        {
          "output_type": "execute_result",
          "data": {
            "text/plain": [
              "0.034699365705287755"
            ]
          },
          "metadata": {
            "tags": []
          },
          "execution_count": 53
        }
      ]
    },
    {
      "cell_type": "code",
      "metadata": {
        "colab": {
          "base_uri": "https://localhost:8080/"
        },
        "id": "po4Rq6qi9xKk",
        "outputId": "0a4bbad4-1eb1-4e81-9149-302367fcae34"
      },
      "source": [
        "import pandas as pd\n",
        "import sklearn\n",
        "dataset = pd.read_csv (\"https://raw.githubusercontent.com/Shahzad-Siddiqui/data-science/main/OLX_Car_Data_CSV.csv\")\n",
        "\n",
        "X = dataset.drop (['Model', 'Price'], axis = 1)\n",
        "X.shape\n",
        "y = dataset['Price']\n",
        "y\n",
        "from sklearn.linear_model import LinearRegression\n",
        "from sklearn.model_selection import train_test_split\n",
        "X_train, X_test, y_train, y_test = train_test_split(X, y, test_size=0.2, random_state=0)\n",
        "model = LinearRegression()\n",
        "\n",
        "lr = model.fit(X_train[['Brand', 'Year', 'Condition']], y_train)\n",
        "y_pred = lr.predict(X_test[['Brand', 'Year', 'Condition']])\n",
        "lr.score(X_test[['Brand', 'Year', 'Condition']],y_test)"
      ],
      "execution_count": null,
      "outputs": [
        {
          "output_type": "execute_result",
          "data": {
            "text/plain": [
              "0.04377826298295284"
            ]
          },
          "metadata": {
            "tags": []
          },
          "execution_count": 54
        }
      ]
    },
    {
      "cell_type": "code",
      "metadata": {
        "id": "TCYog8OU4Gcc",
        "colab": {
          "base_uri": "https://localhost:8080/"
        },
        "outputId": "ed73f4c8-ff2c-4fc7-9a00-da09cd2fcf5b"
      },
      "source": [
        "import pandas as pd\n",
        "import sklearn\n",
        "dataset = pd.read_csv (\"https://raw.githubusercontent.com/Shahzad-Siddiqui/data-science/main/OLX_Car_Data_CSV.csv\")\n",
        "\n",
        "X = dataset.drop (['Model', 'Price'], axis = 1)\n",
        "X.shape\n",
        "y = dataset['Price']\n",
        "y\n",
        "from sklearn.linear_model import LinearRegression\n",
        "from sklearn.model_selection import train_test_split\n",
        "X_train, X_test, y_train, y_test = train_test_split(X, y, test_size=0.2, random_state=0)\n",
        "model = LinearRegression()\n",
        "\n",
        "lr = model.fit(X_train[['Brand', 'Year', 'Condition', 'KMs Driven']], y_train)\n",
        "y_pred = lr.predict(X_test[['Brand', 'Year', 'Condition' , 'KMs Driven']])\n",
        "lr.score(X_test[['Brand', 'Year', 'Condition', 'KMs Driven']],y_test)"
      ],
      "execution_count": null,
      "outputs": [
        {
          "output_type": "execute_result",
          "data": {
            "text/plain": [
              "0.044006981586962146"
            ]
          },
          "metadata": {
            "tags": []
          },
          "execution_count": 55
        }
      ]
    },
    {
      "cell_type": "code",
      "metadata": {
        "id": "_BdZxxQ69EMR"
      },
      "source": [
        ""
      ],
      "execution_count": null,
      "outputs": []
    },
    {
      "cell_type": "code",
      "metadata": {
        "colab": {
          "base_uri": "https://localhost:8080/"
        },
        "id": "FNbFbHsnNktA",
        "outputId": "95702790-a1ca-404a-cfef-cf1cdd985009"
      },
      "source": [
        "from sklearn.linear_model import LogisticRegression\r\n",
        "from sklearn.model_selection import train_test_split\r\n",
        "from sklearn import metrics\r\n",
        "from sklearn.metrics import confusion_matrix\r\n",
        "dataset = pd.read_csv (\"https://raw.githubusercontent.com/Shahzad-Siddiqui/data-science/main/OLX_Car_Data_CSV.csv\")\r\n",
        "#dataset\r\n",
        "#X = dataset.drop (['Model', 'Registered City', 'Condition', 'Brand', 'Fuel', 'Transaction Type', 'Year'], axis = 1)\r\n",
        "X = dataset.drop (['Model'], axis = 1)\r\n",
        "X.shape\r\n",
        "y = dataset['Brand']\r\n",
        "y\r\n",
        "X_train, X_test, y_train, y_test = train_test_split(X, y, test_size=0.2, random_state=0)\r\n",
        "lr = LogisticRegression()\r\n",
        "lr.fit(X_train, y_train)\r\n",
        "y_pred = lr.predict(X_test)\r\n",
        "lr.score(X_test,y_test)\r\n",
        "cm = confusion_matrix(y_test, y_pred)\r\n",
        "cm\r\n"
      ],
      "execution_count": null,
      "outputs": [
        {
          "output_type": "stream",
          "text": [
            "/usr/local/lib/python3.6/dist-packages/sklearn/linear_model/_logistic.py:940: ConvergenceWarning: lbfgs failed to converge (status=1):\n",
            "STOP: TOTAL NO. of ITERATIONS REACHED LIMIT.\n",
            "\n",
            "Increase the number of iterations (max_iter) or scale the data as shown in:\n",
            "    https://scikit-learn.org/stable/modules/preprocessing.html\n",
            "Please also refer to the documentation for alternative solver options:\n",
            "    https://scikit-learn.org/stable/modules/linear_model.html#logistic-regression\n",
            "  extra_warning_msg=_LOGISTIC_SOLVER_CONVERGENCE_MSG)\n"
          ],
          "name": "stderr"
        },
        {
          "output_type": "execute_result",
          "data": {
            "text/plain": [
              "array([[446, 227,   0,   0,   0,   0,   0,   0,   0,   0,   0,   0,   0,\n",
              "          0],\n",
              "       [ 67, 307,   0,   0,   0,   0,   0,   0,   0,   0,   0,   0,   0,\n",
              "          0],\n",
              "       [100, 134,   0,   0,   0,   0,   0,   0,   0,   0,   0,   0,   0,\n",
              "          0],\n",
              "       [ 82,  59,   0,   0,   0,   0,   0,   0,   0,   0,   0,   0,   0,\n",
              "          0],\n",
              "       [ 10,   1,   0,   0,   0,   0,   0,   0,   0,   0,   0,   0,   0,\n",
              "          0],\n",
              "       [ 19,  15,   0,   0,   0,   0,   0,   0,   0,   0,   0,   0,   0,\n",
              "          0],\n",
              "       [ 21,   2,   0,   0,   0,   0,   0,   0,   0,   0,   0,   0,   0,\n",
              "          0],\n",
              "       [  1,   3,   0,   0,   0,   0,   0,   0,   0,   0,   0,   0,   0,\n",
              "          0],\n",
              "       [ 21,  25,   0,   0,   0,   0,   0,   0,   0,   0,   0,   0,   0,\n",
              "          0],\n",
              "       [  5,   1,   0,   0,   0,   0,   0,   0,   0,   0,   0,   0,   0,\n",
              "          0],\n",
              "       [  1,   7,   0,   0,   0,   0,   0,   0,   0,   0,   0,   0,   0,\n",
              "          0],\n",
              "       [  5,   0,   0,   0,   0,   0,   0,   0,   0,   0,   0,   0,   0,\n",
              "          0],\n",
              "       [  3,   0,   0,   0,   0,   0,   0,   0,   0,   0,   0,   0,   0,\n",
              "          0],\n",
              "       [  8,   1,   0,   0,   0,   0,   0,   0,   0,   0,   0,   0,   0,\n",
              "          0]])"
            ]
          },
          "metadata": {
            "tags": []
          },
          "execution_count": 63
        }
      ]
    },
    {
      "cell_type": "code",
      "metadata": {
        "colab": {
          "base_uri": "https://localhost:8080/"
        },
        "id": "MgkMR-9aSojM",
        "outputId": "6b12ee10-9682-48ed-d4b4-b2a79bb163bd"
      },
      "source": [
        "from sklearn.linear_model import LogisticRegression\r\n",
        "from sklearn.model_selection import train_test_split\r\n",
        "from sklearn import metrics\r\n",
        "from sklearn.metrics import confusion_matrix\r\n",
        "dataset = pd.read_csv (\"https://raw.githubusercontent.com/Shahzad-Siddiqui/data-science/main/OLX_Car_Data_CSV.csv\")\r\n",
        "#dataset\r\n",
        "#X = dataset.drop (['Model', 'Registered City', 'Condition', 'Brand', 'Fuel', 'Transaction Type', 'Year'], axis = 1)\r\n",
        "X = dataset.drop (['Model'], axis = 1)\r\n",
        "X.shape\r\n",
        "y = dataset['Registered City']\r\n",
        "y\r\n",
        "X_train, X_test, y_train, y_test = train_test_split(X, y, test_size=0.2, random_state=0)\r\n",
        "lr = LogisticRegression()\r\n",
        "lr.fit(X_train, y_train)\r\n",
        "y_pred = lr.predict(X_test)\r\n",
        "lr.score(X_test,y_test)\r\n",
        "cm = confusion_matrix(y_test, y_pred)\r\n",
        "cm"
      ],
      "execution_count": null,
      "outputs": [
        {
          "output_type": "stream",
          "text": [
            "/usr/local/lib/python3.6/dist-packages/sklearn/linear_model/_logistic.py:940: ConvergenceWarning: lbfgs failed to converge (status=1):\n",
            "STOP: TOTAL NO. of ITERATIONS REACHED LIMIT.\n",
            "\n",
            "Increase the number of iterations (max_iter) or scale the data as shown in:\n",
            "    https://scikit-learn.org/stable/modules/preprocessing.html\n",
            "Please also refer to the documentation for alternative solver options:\n",
            "    https://scikit-learn.org/stable/modules/linear_model.html#logistic-regression\n",
            "  extra_warning_msg=_LOGISTIC_SOLVER_CONVERGENCE_MSG)\n"
          ],
          "name": "stderr"
        },
        {
          "output_type": "execute_result",
          "data": {
            "text/plain": [
              "array([[   0,  103,    0,    0,    0,    0,    0,    0,    0,    0,    0,\n",
              "           0,    0,    0,    0],\n",
              "       [   0, 1049,    0,    0,    0,    0,    0,    0,    0,    0,    0,\n",
              "           0,    0,    0,    0],\n",
              "       [   0,  251,    0,    0,    0,    0,    0,    0,    0,    0,    0,\n",
              "           0,    0,    0,    0],\n",
              "       [   0,  113,    0,    0,    0,    0,    0,    0,    0,    0,    0,\n",
              "           0,    0,    0,    0],\n",
              "       [   0,   16,    0,    0,    0,    0,    0,    0,    0,    0,    0,\n",
              "           0,    0,    0,    0],\n",
              "       [   0,   11,    0,    0,    0,    0,    0,    0,    0,    0,    0,\n",
              "           0,    0,    0,    0],\n",
              "       [   0,    3,    0,    0,    0,    0,    0,    0,    0,    0,    0,\n",
              "           0,    0,    0,    0],\n",
              "       [   0,    3,    0,    0,    0,    0,    0,    0,    0,    0,    0,\n",
              "           0,    0,    0,    0],\n",
              "       [   0,    2,    0,    0,    0,    0,    0,    0,    0,    0,    0,\n",
              "           0,    0,    0,    0],\n",
              "       [   0,    1,    0,    0,    0,    0,    0,    0,    0,    0,    0,\n",
              "           0,    0,    0,    0],\n",
              "       [   0,    4,    0,    0,    0,    0,    0,    0,    0,    0,    0,\n",
              "           0,    0,    0,    0],\n",
              "       [   0,    7,    0,    0,    0,    0,    0,    0,    0,    0,    0,\n",
              "           0,    0,    0,    0],\n",
              "       [   0,    1,    0,    0,    0,    0,    0,    0,    0,    0,    0,\n",
              "           0,    0,    0,    0],\n",
              "       [   0,    2,    0,    0,    0,    0,    0,    0,    0,    0,    0,\n",
              "           0,    0,    0,    0],\n",
              "       [   0,    5,    0,    0,    0,    0,    0,    0,    0,    0,    0,\n",
              "           0,    0,    0,    0]])"
            ]
          },
          "metadata": {
            "tags": []
          },
          "execution_count": 64
        }
      ]
    },
    {
      "cell_type": "code",
      "metadata": {
        "colab": {
          "base_uri": "https://localhost:8080/"
        },
        "id": "agnmoIW0St7T",
        "outputId": "e579e9d4-c5d5-4ee8-b886-6a7038f4b3cd"
      },
      "source": [
        "from sklearn.linear_model import LogisticRegression\r\n",
        "from sklearn.model_selection import train_test_split\r\n",
        "from sklearn import metrics\r\n",
        "from sklearn.metrics import confusion_matrix\r\n",
        "dataset = pd.read_csv (\"https://raw.githubusercontent.com/Shahzad-Siddiqui/data-science/main/OLX_Car_Data_CSV.csv\")\r\n",
        "#dataset\r\n",
        "#X = dataset.drop (['Model', 'Registered City', 'Condition', 'Brand', 'Fuel', 'Transaction Type', 'Year'], axis = 1)\r\n",
        "X = dataset.drop (['Model'], axis = 1)\r\n",
        "X.shape\r\n",
        "y = dataset['Price']\r\n",
        "y\r\n",
        "X_train, X_test, y_train, y_test = train_test_split(X, y, test_size=0.2, random_state=0)\r\n",
        "lr = LogisticRegression()\r\n",
        "lr.fit(X_train, y_train)\r\n",
        "y_pred = lr.predict(X_test)\r\n",
        "lr.score(X_test,y_test)\r\n",
        "cm = confusion_matrix(y_test, y_pred)\r\n",
        "cm"
      ],
      "execution_count": null,
      "outputs": [
        {
          "output_type": "stream",
          "text": [
            "/usr/local/lib/python3.6/dist-packages/sklearn/linear_model/_logistic.py:940: ConvergenceWarning: lbfgs failed to converge (status=1):\n",
            "STOP: TOTAL NO. of ITERATIONS REACHED LIMIT.\n",
            "\n",
            "Increase the number of iterations (max_iter) or scale the data as shown in:\n",
            "    https://scikit-learn.org/stable/modules/preprocessing.html\n",
            "Please also refer to the documentation for alternative solver options:\n",
            "    https://scikit-learn.org/stable/modules/linear_model.html#logistic-regression\n",
            "  extra_warning_msg=_LOGISTIC_SOLVER_CONVERGENCE_MSG)\n"
          ],
          "name": "stderr"
        },
        {
          "output_type": "execute_result",
          "data": {
            "text/plain": [
              "array([[0, 0, 0, ..., 0, 0, 0],\n",
              "       [0, 0, 0, ..., 0, 0, 0],\n",
              "       [0, 0, 0, ..., 0, 0, 0],\n",
              "       ...,\n",
              "       [0, 0, 0, ..., 0, 0, 0],\n",
              "       [0, 0, 0, ..., 0, 0, 0],\n",
              "       [0, 0, 0, ..., 0, 0, 0]])"
            ]
          },
          "metadata": {
            "tags": []
          },
          "execution_count": 65
        }
      ]
    },
    {
      "cell_type": "code",
      "metadata": {
        "colab": {
          "base_uri": "https://localhost:8080/"
        },
        "id": "c5yNNPcsS6R4",
        "outputId": "2871776b-b62c-4040-c3fa-68303ccc1f73"
      },
      "source": [
        "from sklearn.linear_model import LogisticRegression\r\n",
        "from sklearn.model_selection import train_test_split\r\n",
        "from sklearn import metrics\r\n",
        "from sklearn.metrics import confusion_matrix\r\n",
        "dataset = pd.read_csv (\"https://raw.githubusercontent.com/Shahzad-Siddiqui/data-science/main/OLX_Car_Data_CSV.csv\")\r\n",
        "#dataset\r\n",
        "#X = dataset.drop (['Model', 'Registered City', 'Condition', 'Brand', 'Fuel', 'Transaction Type', 'Year'], axis = 1)\r\n",
        "X = dataset.drop (['Model'], axis = 1)\r\n",
        "X.shape\r\n",
        "y = dataset['Year']\r\n",
        "y\r\n",
        "X_train, X_test, y_train, y_test = train_test_split(X, y, test_size=0.2, random_state=0)\r\n",
        "lr = LogisticRegression()\r\n",
        "lr.fit(X_train, y_train)\r\n",
        "y_pred = lr.predict(X_test)\r\n",
        "lr.score(X_test,y_test)\r\n",
        "cm = confusion_matrix(y_test, y_pred)\r\n",
        "cm"
      ],
      "execution_count": null,
      "outputs": [
        {
          "output_type": "stream",
          "text": [
            "/usr/local/lib/python3.6/dist-packages/sklearn/linear_model/_logistic.py:940: ConvergenceWarning: lbfgs failed to converge (status=1):\n",
            "STOP: TOTAL NO. of ITERATIONS REACHED LIMIT.\n",
            "\n",
            "Increase the number of iterations (max_iter) or scale the data as shown in:\n",
            "    https://scikit-learn.org/stable/modules/preprocessing.html\n",
            "Please also refer to the documentation for alternative solver options:\n",
            "    https://scikit-learn.org/stable/modules/linear_model.html#logistic-regression\n",
            "  extra_warning_msg=_LOGISTIC_SOLVER_CONVERGENCE_MSG)\n"
          ],
          "name": "stderr"
        },
        {
          "output_type": "execute_result",
          "data": {
            "text/plain": [
              "array([[0, 0, 0, ..., 0, 0, 0],\n",
              "       [0, 0, 0, ..., 0, 0, 0],\n",
              "       [0, 0, 0, ..., 0, 0, 0],\n",
              "       ...,\n",
              "       [0, 0, 0, ..., 0, 0, 0],\n",
              "       [0, 0, 0, ..., 1, 0, 0],\n",
              "       [0, 0, 0, ..., 5, 0, 0]])"
            ]
          },
          "metadata": {
            "tags": []
          },
          "execution_count": 66
        }
      ]
    },
    {
      "cell_type": "code",
      "metadata": {
        "colab": {
          "base_uri": "https://localhost:8080/"
        },
        "id": "9-Yw3CbwS-Wh",
        "outputId": "32ccc44b-d6ad-48aa-904b-4d84afa64bcb"
      },
      "source": [
        "from sklearn.linear_model import LogisticRegression\r\n",
        "from sklearn.model_selection import train_test_split\r\n",
        "from sklearn import metrics\r\n",
        "from sklearn.metrics import confusion_matrix\r\n",
        "dataset = pd.read_csv (\"https://raw.githubusercontent.com/Shahzad-Siddiqui/data-science/main/OLX_Car_Data_CSV.csv\")\r\n",
        "\r\n",
        "X = dataset.drop (['Model'], axis = 1)\r\n",
        "X.shape\r\n",
        "y = dataset['Condition']\r\n",
        "y\r\n",
        "X_train, X_test, y_train, y_test = train_test_split(X, y, test_size=0.2, random_state=0)\r\n",
        "lr = LogisticRegression()\r\n",
        "lr.fit(X_train, y_train)\r\n",
        "y_pred = lr.predict(X_test)\r\n",
        "lr.score(X_test,y_test)\r\n",
        "cm = confusion_matrix(y_test, y_pred)\r\n",
        "cm"
      ],
      "execution_count": null,
      "outputs": [
        {
          "output_type": "execute_result",
          "data": {
            "text/plain": [
              "array([[1254,    4],\n",
              "       [ 306,    7]])"
            ]
          },
          "metadata": {
            "tags": []
          },
          "execution_count": 29
        }
      ]
    },
    {
      "cell_type": "code",
      "metadata": {
        "colab": {
          "base_uri": "https://localhost:8080/"
        },
        "id": "6nIyR5WGTC21",
        "outputId": "7cb42898-4118-4c8f-8b44-8ea1b6e8ad62"
      },
      "source": [
        "from sklearn.linear_model import LogisticRegression\r\n",
        "from sklearn.model_selection import train_test_split\r\n",
        "from sklearn import metrics\r\n",
        "from sklearn.metrics import confusion_matrix\r\n",
        "dataset = pd.read_csv (\"https://raw.githubusercontent.com/Shahzad-Siddiqui/data-science/main/OLX_Car_Data_CSV.csv\")\r\n",
        "#dataset\r\n",
        "#X = dataset.drop (['Model', 'Registered City', 'Condition', 'Brand', 'Fuel', 'Transaction Type', 'Year'], axis = 1)\r\n",
        "X = dataset.drop (['Model'], axis = 1)\r\n",
        "X.shape\r\n",
        "y = dataset['Fuel']\r\n",
        "y\r\n",
        "X_train, X_test, y_train, y_test = train_test_split(X, y, test_size=0.2, random_state=0)\r\n",
        "lr = LogisticRegression()\r\n",
        "lr.fit(X_train, y_train)\r\n",
        "y_pred = lr.predict(X_test)\r\n",
        "lr.score(X_test,y_test)\r\n",
        "cm = confusion_matrix(y_test, y_pred)\r\n",
        "cm"
      ],
      "execution_count": null,
      "outputs": [
        {
          "output_type": "stream",
          "text": [
            "/usr/local/lib/python3.6/dist-packages/sklearn/linear_model/_logistic.py:940: ConvergenceWarning: lbfgs failed to converge (status=1):\n",
            "STOP: TOTAL NO. of ITERATIONS REACHED LIMIT.\n",
            "\n",
            "Increase the number of iterations (max_iter) or scale the data as shown in:\n",
            "    https://scikit-learn.org/stable/modules/preprocessing.html\n",
            "Please also refer to the documentation for alternative solver options:\n",
            "    https://scikit-learn.org/stable/modules/linear_model.html#logistic-regression\n",
            "  extra_warning_msg=_LOGISTIC_SOLVER_CONVERGENCE_MSG)\n"
          ],
          "name": "stderr"
        },
        {
          "output_type": "execute_result",
          "data": {
            "text/plain": [
              "array([[  0,   1,   0,   0,   0],\n",
              "       [  0, 889, 134,   0,   0],\n",
              "       [  0, 253, 204,   0,   0],\n",
              "       [  0,  27,   2,   0,   0],\n",
              "       [  0,  54,   7,   0,   0]])"
            ]
          },
          "metadata": {
            "tags": []
          },
          "execution_count": 68
        }
      ]
    },
    {
      "cell_type": "code",
      "metadata": {
        "colab": {
          "base_uri": "https://localhost:8080/"
        },
        "id": "NjI_iB_XTH_G",
        "outputId": "ec031cdd-23c9-4af6-b72e-ad949cbc98de"
      },
      "source": [
        "from sklearn.linear_model import LogisticRegression\r\n",
        "from sklearn.model_selection import train_test_split\r\n",
        "from sklearn import metrics\r\n",
        "from sklearn.metrics import confusion_matrix\r\n",
        "dataset = pd.read_csv (\"https://raw.githubusercontent.com/Shahzad-Siddiqui/data-science/main/OLX_Car_Data_CSV.csv\")\r\n",
        "#dataset\r\n",
        "#X = dataset.drop (['Model', 'Registered City', 'Condition', 'Brand', 'Fuel', 'Transaction Type', 'Year'], axis = 1)\r\n",
        "X = dataset.drop (['Model'], axis = 1)\r\n",
        "X.shape\r\n",
        "y = dataset['Transaction Type']\r\n",
        "y\r\n",
        "X_train, X_test, y_train, y_test = train_test_split(X, y, test_size=0.2, random_state=0)\r\n",
        "lr = LogisticRegression()\r\n",
        "lr.fit(X_train, y_train)\r\n",
        "y_pred = lr.predict(X_test)\r\n",
        "lr.score(X_test,y_test)\r\n",
        "cm = confusion_matrix(y_test, y_pred)\r\n",
        "cm"
      ],
      "execution_count": null,
      "outputs": [
        {
          "output_type": "execute_result",
          "data": {
            "text/plain": [
              "array([[   0,    1,    0],\n",
              "       [   0, 1500,    0],\n",
              "       [   0,   70,    0]])"
            ]
          },
          "metadata": {
            "tags": []
          },
          "execution_count": 69
        }
      ]
    },
    {
      "cell_type": "code",
      "metadata": {
        "id": "WjCWhvL4m29O"
      },
      "source": [
        ""
      ],
      "execution_count": null,
      "outputs": []
    },
    {
      "cell_type": "code",
      "metadata": {
        "colab": {
          "base_uri": "https://localhost:8080/"
        },
        "id": "6TFU7pAgm4U5",
        "outputId": "46295e18-9d59-4020-b483-04494fae0119"
      },
      "source": [
        "import pandas as pd\n",
        "import sklearn\n",
        "dataset = pd.read_csv (\"https://raw.githubusercontent.com/Shahzad-Siddiqui/data-science/main/OLX_Car_Data_CSV.csv\")\n",
        "\n",
        "X = dataset.drop (['Model', 'Price'], axis = 1)\n",
        "X.shape\n",
        "y = dataset['Price']\n",
        "y\n",
        "from sklearn.linear_model import LinearRegression\n",
        "from sklearn.model_selection import train_test_split\n",
        "X_train, X_test, y_train, y_test = train_test_split(X, y, test_size=0.2, random_state=0)\n",
        "model = LinearRegression()\n",
        "\n",
        "lr = model.fit(X_train[['Year', 'KMs Driven']], y_train)\n",
        "y_pred = lr.predict(X_test[['Year', 'KMs Driven']])\n",
        "lr.score(X_test[['Year', 'KMs Driven']],y_test)"
      ],
      "execution_count": null,
      "outputs": [
        {
          "output_type": "execute_result",
          "data": {
            "text/plain": [
              "0.03440901418106046"
            ]
          },
          "metadata": {
            "tags": []
          },
          "execution_count": 18
        }
      ]
    },
    {
      "cell_type": "code",
      "metadata": {
        "id": "02pnQlYmnkKf"
      },
      "source": [
        ""
      ],
      "execution_count": null,
      "outputs": []
    },
    {
      "cell_type": "code",
      "metadata": {
        "colab": {
          "base_uri": "https://localhost:8080/"
        },
        "id": "4qwed4MDnkkW",
        "outputId": "53018073-ca4c-4130-91ab-fb76a1db670b"
      },
      "source": [
        "import pandas as pd\n",
        "import sklearn\n",
        "dataset = pd.read_csv (\"https://raw.githubusercontent.com/Shahzad-Siddiqui/data-science/main/OLX_Car_Data_CSV.csv\")\n",
        "\n",
        "X = dataset.drop (['Model',  'Price'], axis = 1)\n",
        "X.shape\n",
        "y = dataset['Price']\n",
        "y\n",
        "from sklearn.linear_model import LinearRegression\n",
        "from sklearn.model_selection import train_test_split\n",
        "X_train, X_test, y_train, y_test = train_test_split(X, y, test_size=0.2, random_state=0)\n",
        "model = LinearRegression()\n",
        "\n",
        "lr = model.fit(X_train, y_train)\n",
        "y_pred = lr.predict(X_test)\n",
        "lr.score(X_test,y_test)"
      ],
      "execution_count": null,
      "outputs": [
        {
          "output_type": "execute_result",
          "data": {
            "text/plain": [
              "0.05562115952896074"
            ]
          },
          "metadata": {
            "tags": []
          },
          "execution_count": 7
        }
      ]
    },
    {
      "cell_type": "code",
      "metadata": {
        "colab": {
          "base_uri": "https://localhost:8080/"
        },
        "id": "-Oh1hPUip-qC",
        "outputId": "50d56b17-6565-4dbf-a14a-43065fe1d51e"
      },
      "source": [
        "import pandas as pd\r\n",
        "import sklearn\r\n",
        "dataset = pd.read_csv (\"https://raw.githubusercontent.com/Shahzad-Siddiqui/data-science/main/OLX_Car_Data_CSV.csv\")\r\n",
        "\r\n",
        "X = dataset.drop (['Model', 'Price'], axis = 1)\r\n",
        "X.shape\r\n",
        "y = dataset['Price']\r\n",
        "y\r\n",
        "from sklearn.linear_model import LinearRegression\r\n",
        "from sklearn.model_selection import train_test_split\r\n",
        "X_train, X_test, y_train, y_test = train_test_split(X, y, test_size=0.2, random_state=0)\r\n",
        "model = LinearRegression()\r\n",
        "\r\n",
        "lr = model.fit(X_train[['Brand', 'Year', 'KMs Driven']], y_train)\r\n",
        "y_pred = lr.predict(X_test[['Brand','Year', 'KMs Driven']])\r\n",
        "lr.score(X_test[['Brand','Year', 'KMs Driven']],y_test)"
      ],
      "execution_count": null,
      "outputs": [
        {
          "output_type": "execute_result",
          "data": {
            "text/plain": [
              "0.03491705626147301"
            ]
          },
          "metadata": {
            "tags": []
          },
          "execution_count": 23
        }
      ]
    },
    {
      "cell_type": "code",
      "metadata": {
        "colab": {
          "base_uri": "https://localhost:8080/"
        },
        "id": "sWJocz-0qziF",
        "outputId": "5cb64962-8428-4e23-c701-5bea36a46330"
      },
      "source": [
        "import pandas as pd\r\n",
        "import sklearn\r\n",
        "dataset = pd.read_csv (\"https://raw.githubusercontent.com/Shahzad-Siddiqui/data-science/main/OLX_Car_Data_CSV.csv\")\r\n",
        "\r\n",
        "X = dataset.drop (['Model', 'Price'], axis = 1)\r\n",
        "X.shape\r\n",
        "y = dataset['Price']\r\n",
        "y\r\n",
        "from sklearn.linear_model import LinearRegression\r\n",
        "from sklearn.model_selection import train_test_split\r\n",
        "X_train, X_test, y_train, y_test = train_test_split(X, y, test_size=0.2, random_state=0)\r\n",
        "model = LinearRegression()\r\n",
        "\r\n",
        "lr = model.fit(X_train[['Brand', 'Condition', 'Year', 'KMs Driven']], y_train)\r\n",
        "y_pred = lr.predict(X_test[['Brand', 'Condition', 'Year', 'KMs Driven']])\r\n",
        "lr.score(X_test[['Brand','Condition','Year','KMs Driven']],y_test)"
      ],
      "execution_count": null,
      "outputs": [
        {
          "output_type": "execute_result",
          "data": {
            "text/plain": [
              "0.044006981586866334"
            ]
          },
          "metadata": {
            "tags": []
          },
          "execution_count": 25
        }
      ]
    },
    {
      "cell_type": "code",
      "metadata": {
        "colab": {
          "base_uri": "https://localhost:8080/"
        },
        "id": "NZ7CkhO3rlsf",
        "outputId": "56454288-41cf-4aa2-892d-7c357e1d73ea"
      },
      "source": [
        "import pandas as pd\r\n",
        "import sklearn\r\n",
        "dataset = pd.read_csv (\"https://raw.githubusercontent.com/Shahzad-Siddiqui/data-science/main/OLX_Car_Data_CSV.csv\")\r\n",
        "\r\n",
        "X = dataset.drop (['Model', 'Price'], axis = 1)\r\n",
        "X.shape\r\n",
        "y = dataset['Price']\r\n",
        "y\r\n",
        "from sklearn.linear_model import LinearRegression\r\n",
        "from sklearn.model_selection import train_test_split\r\n",
        "X_train, X_test, y_train, y_test = train_test_split(X, y, test_size=0.2, random_state=0)\r\n",
        "model = LinearRegression()\r\n",
        "\r\n",
        "lr = model.fit(X_train[['Brand', 'Condition', 'Fuel', 'Year', 'KMs Driven']], y_train)\r\n",
        "y_pred = lr.predict(X_test[['Brand', 'Condition', 'Fuel', 'Year', 'KMs Driven']])\r\n",
        "lr.score(X_test[['Brand','Condition','Fuel', 'Year','KMs Driven']],y_test)"
      ],
      "execution_count": null,
      "outputs": [
        {
          "output_type": "execute_result",
          "data": {
            "text/plain": [
              "0.04500676652034219"
            ]
          },
          "metadata": {
            "tags": []
          },
          "execution_count": 26
        }
      ]
    },
    {
      "cell_type": "code",
      "metadata": {
        "colab": {
          "base_uri": "https://localhost:8080/"
        },
        "id": "3xKo_Qx-sBmA",
        "outputId": "a5c82166-76d8-4be1-ac60-c0b8766b491c"
      },
      "source": [
        "import pandas as pd\r\n",
        "import sklearn\r\n",
        "dataset = pd.read_csv (\"https://raw.githubusercontent.com/Shahzad-Siddiqui/data-science/main/OLX_Car_Data_CSV.csv\")\r\n",
        "\r\n",
        "X = dataset.drop (['Model', 'Price'], axis = 1)\r\n",
        "X.shape\r\n",
        "y = dataset['Price']\r\n",
        "y\r\n",
        "from sklearn.linear_model import LinearRegression\r\n",
        "from sklearn.model_selection import train_test_split\r\n",
        "X_train, X_test, y_train, y_test = train_test_split(X, y, test_size=0.2, random_state=0)\r\n",
        "model = LinearRegression()\r\n",
        "\r\n",
        "lr = model.fit(X_train[['Brand', 'Condition', 'Fuel', 'Transaction Type', 'Year', 'KMs Driven']], y_train)\r\n",
        "y_pred = lr.predict(X_test[['Brand', 'Condition', 'Fuel', 'Transaction Type', 'Year', 'KMs Driven']])\r\n",
        "lr.score(X_test[['Brand','Condition','Fuel', 'Transaction Type', 'Year','KMs Driven']],y_test)"
      ],
      "execution_count": null,
      "outputs": [
        {
          "output_type": "execute_result",
          "data": {
            "text/plain": [
              "0.05605047255310669"
            ]
          },
          "metadata": {
            "tags": []
          },
          "execution_count": 27
        }
      ]
    },
    {
      "cell_type": "code",
      "metadata": {
        "colab": {
          "base_uri": "https://localhost:8080/"
        },
        "id": "g74yliEjs4H_",
        "outputId": "6f36e7fd-4eaa-4047-9339-1206741d8202"
      },
      "source": [
        "import pandas as pd\r\n",
        "import sklearn\r\n",
        "dataset = pd.read_csv (\"https://raw.githubusercontent.com/Shahzad-Siddiqui/data-science/main/OLX_Car_Data_CSV.csv\")\r\n",
        "\r\n",
        "X = dataset.drop (['Model', 'Price'], axis = 1)\r\n",
        "X.shape\r\n",
        "y = dataset['Price']\r\n",
        "y\r\n",
        "from sklearn.linear_model import LinearRegression\r\n",
        "from sklearn.model_selection import train_test_split\r\n",
        "X_train, X_test, y_train, y_test = train_test_split(X, y, test_size=0.2, random_state=0)\r\n",
        "model = LinearRegression()\r\n",
        "\r\n",
        "lr = model.fit(X_train[['Brand', 'Condition', 'Fuel', 'Transaction Type', 'Year', 'KMs Driven', 'Registered City']], y_train)\r\n",
        "y_pred = lr.predict(X_test[['Brand', 'Condition', 'Fuel', 'Transaction Type', 'Year', 'KMs Driven', 'Registered City']])\r\n",
        "lr.score(X_test[['Brand','Condition','Fuel', 'Transaction Type', 'Year','KMs Driven', 'Registered City']],y_test)"
      ],
      "execution_count": null,
      "outputs": [
        {
          "output_type": "execute_result",
          "data": {
            "text/plain": [
              "0.055621159528938535"
            ]
          },
          "metadata": {
            "tags": []
          },
          "execution_count": 28
        }
      ]
    },
    {
      "cell_type": "code",
      "metadata": {
        "colab": {
          "base_uri": "https://localhost:8080/"
        },
        "id": "GEfw9D1SvMI7",
        "outputId": "d3752fe9-7dae-4c0b-f04e-9de3039f1d22"
      },
      "source": [
        "from sklearn.linear_model import LogisticRegression\r\n",
        "from sklearn.model_selection import train_test_split\r\n",
        "from sklearn import metrics\r\n",
        "from sklearn.metrics import confusion_matrix\r\n",
        "dataset = pd.read_csv (\"https://raw.githubusercontent.com/Shahzad-Siddiqui/data-science/main/OLX_Car_Data_CSV.csv\")\r\n",
        "\r\n",
        "X = dataset.drop (['Model'], axis = 1)\r\n",
        "X.shape\r\n",
        "y = dataset['Fuel']\r\n",
        "y\r\n",
        "X_train, X_test, y_train, y_test = train_test_split(X, y, test_size=0.2, random_state=0)\r\n",
        "lr = LogisticRegression()\r\n",
        "lr.fit(X_train, y_train)\r\n",
        "y_pred = lr.predict(X_test)\r\n",
        "lr.score(X_test,y_test)\r\n",
        "cm = confusion_matrix(y_test, y_pred)\r\n",
        "cm"
      ],
      "execution_count": null,
      "outputs": [
        {
          "output_type": "stream",
          "text": [
            "/usr/local/lib/python3.6/dist-packages/sklearn/linear_model/_logistic.py:940: ConvergenceWarning: lbfgs failed to converge (status=1):\n",
            "STOP: TOTAL NO. of ITERATIONS REACHED LIMIT.\n",
            "\n",
            "Increase the number of iterations (max_iter) or scale the data as shown in:\n",
            "    https://scikit-learn.org/stable/modules/preprocessing.html\n",
            "Please also refer to the documentation for alternative solver options:\n",
            "    https://scikit-learn.org/stable/modules/linear_model.html#logistic-regression\n",
            "  extra_warning_msg=_LOGISTIC_SOLVER_CONVERGENCE_MSG)\n"
          ],
          "name": "stderr"
        },
        {
          "output_type": "execute_result",
          "data": {
            "text/plain": [
              "array([[  0,   1,   0,   0,   0],\n",
              "       [  0, 889, 134,   0,   0],\n",
              "       [  0, 253, 204,   0,   0],\n",
              "       [  0,  27,   2,   0,   0],\n",
              "       [  0,  54,   7,   0,   0]])"
            ]
          },
          "metadata": {
            "tags": []
          },
          "execution_count": 30
        }
      ]
    },
    {
      "cell_type": "code",
      "metadata": {
        "colab": {
          "base_uri": "https://localhost:8080/"
        },
        "id": "pJiTmY7ffxyA",
        "outputId": "5d5fd8a4-cd48-4806-99c5-8eef56a05d83"
      },
      "source": [
        "import pandas as pd\r\n",
        "from sklearn.linear_model import LogisticRegression\r\n",
        "from sklearn.model_selection import train_test_split\r\n",
        "from sklearn import tree\r\n",
        "from sklearn import metrics\r\n",
        "from sklearn.metrics import confusion_matrix\r\n",
        "dataset = pd.read_csv (\"https://raw.githubusercontent.com/Shahzad-Siddiqui/data-science/main/OLX_Car_Data_CSV.csv\")\r\n",
        "\r\n",
        "X = dataset.drop (['Model'], axis = 1)\r\n",
        "X.shape\r\n",
        "y = dataset['Fuel']\r\n",
        "y\r\n",
        "X_train, X_test, y_train, y_test = train_test_split(X, y, test_size=0.2, random_state=0)\r\n",
        "model = tree.DecisionTreeClassifier()\r\n",
        "model.fit(X_train, y_train)\r\n",
        "\r\n",
        "y_pred = model.predict(X_test)\r\n",
        "model.score(X_test,y_test)\r\n",
        "confusion_matrix(y_test, y_pred)\r\n"
      ],
      "execution_count": null,
      "outputs": [
        {
          "output_type": "execute_result",
          "data": {
            "text/plain": [
              "array([[   1,    0,    0,    0,    0],\n",
              "       [   0, 1023,    0,    0,    0],\n",
              "       [   0,    0,  457,    0,    0],\n",
              "       [   0,    0,    0,   29,    0],\n",
              "       [   0,    0,    0,    0,   61]])"
            ]
          },
          "metadata": {
            "tags": []
          },
          "execution_count": 7
        }
      ]
    },
    {
      "cell_type": "code",
      "metadata": {
        "colab": {
          "base_uri": "https://localhost:8080/"
        },
        "id": "W4EealstilAU",
        "outputId": "e2981652-7c77-466d-c51f-5b5a3097c284"
      },
      "source": [
        "import pandas as pd\r\n",
        "from sklearn.linear_model import LogisticRegression\r\n",
        "from sklearn.model_selection import train_test_split\r\n",
        "from sklearn import tree\r\n",
        "from sklearn import metrics\r\n",
        "from sklearn.metrics import confusion_matrix\r\n",
        "dataset = pd.read_csv (\"https://raw.githubusercontent.com/Shahzad-Siddiqui/data-science/main/OLX_Car_Data_CSV.csv\")\r\n",
        "\r\n",
        "X = dataset.drop (['Model'], axis = 1)\r\n",
        "X.shape\r\n",
        "y = dataset['Condition']\r\n",
        "y\r\n",
        "X_train, X_test, y_train, y_test = train_test_split(X, y, test_size=0.2, random_state=0)\r\n",
        "model = tree.DecisionTreeClassifier()\r\n",
        "model.fit(X_train, y_train)\r\n",
        "\r\n",
        "y_pred = model.predict(X_test)\r\n",
        "model.score(X_test,y_test)\r\n",
        "confusion_matrix(y_test, y_pred)"
      ],
      "execution_count": null,
      "outputs": [
        {
          "output_type": "execute_result",
          "data": {
            "text/plain": [
              "array([[1258,    0],\n",
              "       [   0,  313]])"
            ]
          },
          "metadata": {
            "tags": []
          },
          "execution_count": 8
        }
      ]
    },
    {
      "cell_type": "code",
      "metadata": {
        "id": "ZQTfXIPpiydf",
        "colab": {
          "base_uri": "https://localhost:8080/"
        },
        "outputId": "80279a81-09b4-490c-ea71-238c30c78910"
      },
      "source": [
        "import pandas as pd\r\n",
        "from sklearn.linear_model import LogisticRegression\r\n",
        "from sklearn.model_selection import train_test_split\r\n",
        "from sklearn import tree\r\n",
        "from sklearn import metrics\r\n",
        "from sklearn.metrics import confusion_matrix\r\n",
        "dataset = pd.read_csv (\"https://raw.githubusercontent.com/Shahzad-Siddiqui/data-science/main/OLX_Car_Data_CSV.csv\")\r\n",
        "\r\n",
        "X = dataset.drop (['Model'], axis = 1)\r\n",
        "X.shape\r\n",
        "y = dataset['Transaction Type']\r\n",
        "y\r\n",
        "X_train, X_test, y_train, y_test = train_test_split(X, y, test_size=0.2, random_state=0)\r\n",
        "model = tree.DecisionTreeClassifier()\r\n",
        "model.fit(X_train, y_train)\r\n",
        "\r\n",
        "y_pred = model.predict(X_test)\r\n",
        "model.score(X_test,y_test)\r\n",
        "confusion_matrix(y_test, y_pred)"
      ],
      "execution_count": null,
      "outputs": [
        {
          "output_type": "execute_result",
          "data": {
            "text/plain": [
              "array([[   1,    0,    0],\n",
              "       [   0, 1500,    0],\n",
              "       [   0,    0,   70]])"
            ]
          },
          "metadata": {
            "tags": []
          },
          "execution_count": 9
        }
      ]
    },
    {
      "cell_type": "code",
      "metadata": {
        "colab": {
          "base_uri": "https://localhost:8080/",
          "height": 419
        },
        "id": "TL70D_WzooxM",
        "outputId": "d5d97613-29c2-4303-a910-a9405b4cd18e"
      },
      "source": [
        "import pandas as pd\r\n",
        "cars = pd.read_csv('https://raw.githubusercontent.com/Shahzad-Siddiqui/data-science/main/OLX_Car_Data_CSV.csv')\r\n",
        "cars[['Model', 'Price']]"
      ],
      "execution_count": 10,
      "outputs": [
        {
          "output_type": "execute_result",
          "data": {
            "text/html": [
              "<div>\n",
              "<style scoped>\n",
              "    .dataframe tbody tr th:only-of-type {\n",
              "        vertical-align: middle;\n",
              "    }\n",
              "\n",
              "    .dataframe tbody tr th {\n",
              "        vertical-align: top;\n",
              "    }\n",
              "\n",
              "    .dataframe thead th {\n",
              "        text-align: right;\n",
              "    }\n",
              "</style>\n",
              "<table border=\"1\" class=\"dataframe\">\n",
              "  <thead>\n",
              "    <tr style=\"text-align: right;\">\n",
              "      <th></th>\n",
              "      <th>Model</th>\n",
              "      <th>Price</th>\n",
              "    </tr>\n",
              "  </thead>\n",
              "  <tbody>\n",
              "    <tr>\n",
              "      <th>0</th>\n",
              "      <td>Prado</td>\n",
              "      <td>2100000</td>\n",
              "    </tr>\n",
              "    <tr>\n",
              "      <th>1</th>\n",
              "      <td>Bolan</td>\n",
              "      <td>380000</td>\n",
              "    </tr>\n",
              "    <tr>\n",
              "      <th>2</th>\n",
              "      <td>Bolan</td>\n",
              "      <td>340000</td>\n",
              "    </tr>\n",
              "    <tr>\n",
              "      <th>3</th>\n",
              "      <td>Alto</td>\n",
              "      <td>535000</td>\n",
              "    </tr>\n",
              "    <tr>\n",
              "      <th>4</th>\n",
              "      <td>Corolla0XLI</td>\n",
              "      <td>1430000</td>\n",
              "    </tr>\n",
              "    <tr>\n",
              "      <th>...</th>\n",
              "      <td>...</td>\n",
              "      <td>...</td>\n",
              "    </tr>\n",
              "    <tr>\n",
              "      <th>7849</th>\n",
              "      <td>Corolla0XE</td>\n",
              "      <td>1070000</td>\n",
              "    </tr>\n",
              "    <tr>\n",
              "      <th>7850</th>\n",
              "      <td>Cuore</td>\n",
              "      <td>390000</td>\n",
              "    </tr>\n",
              "    <tr>\n",
              "      <th>7851</th>\n",
              "      <td>Other</td>\n",
              "      <td>180000</td>\n",
              "    </tr>\n",
              "    <tr>\n",
              "      <th>7852</th>\n",
              "      <td>Alto</td>\n",
              "      <td>470000</td>\n",
              "    </tr>\n",
              "    <tr>\n",
              "      <th>7853</th>\n",
              "      <td>Corolla0GLI</td>\n",
              "      <td>2050000</td>\n",
              "    </tr>\n",
              "  </tbody>\n",
              "</table>\n",
              "<p>7854 rows × 2 columns</p>\n",
              "</div>"
            ],
            "text/plain": [
              "            Model    Price\n",
              "0           Prado  2100000\n",
              "1           Bolan   380000\n",
              "2           Bolan   340000\n",
              "3            Alto   535000\n",
              "4     Corolla0XLI  1430000\n",
              "...           ...      ...\n",
              "7849   Corolla0XE  1070000\n",
              "7850        Cuore   390000\n",
              "7851        Other   180000\n",
              "7852         Alto   470000\n",
              "7853  Corolla0GLI  2050000\n",
              "\n",
              "[7854 rows x 2 columns]"
            ]
          },
          "metadata": {
            "tags": []
          },
          "execution_count": 10
        }
      ]
    },
    {
      "cell_type": "code",
      "metadata": {
        "colab": {
          "base_uri": "https://localhost:8080/",
          "height": 419
        },
        "id": "wxnBeVA2rhFI",
        "outputId": "9162f2ca-a6b0-4281-9167-1ed803ef0248"
      },
      "source": [
        "import pandas as pd\r\n",
        "cars = pd.read_csv('https://raw.githubusercontent.com/Shahzad-Siddiqui/data-science/main/OLX_Car_Data_CSV.csv')\r\n",
        "cars"
      ],
      "execution_count": 11,
      "outputs": [
        {
          "output_type": "execute_result",
          "data": {
            "text/html": [
              "<div>\n",
              "<style scoped>\n",
              "    .dataframe tbody tr th:only-of-type {\n",
              "        vertical-align: middle;\n",
              "    }\n",
              "\n",
              "    .dataframe tbody tr th {\n",
              "        vertical-align: top;\n",
              "    }\n",
              "\n",
              "    .dataframe thead th {\n",
              "        text-align: right;\n",
              "    }\n",
              "</style>\n",
              "<table border=\"1\" class=\"dataframe\">\n",
              "  <thead>\n",
              "    <tr style=\"text-align: right;\">\n",
              "      <th></th>\n",
              "      <th>Brand</th>\n",
              "      <th>Condition</th>\n",
              "      <th>Fuel</th>\n",
              "      <th>KMs Driven</th>\n",
              "      <th>Model</th>\n",
              "      <th>Price</th>\n",
              "      <th>Registered City</th>\n",
              "      <th>Transaction Type</th>\n",
              "      <th>Year</th>\n",
              "    </tr>\n",
              "  </thead>\n",
              "  <tbody>\n",
              "    <tr>\n",
              "      <th>0</th>\n",
              "      <td>2</td>\n",
              "      <td>0</td>\n",
              "      <td>3</td>\n",
              "      <td>34567</td>\n",
              "      <td>Prado</td>\n",
              "      <td>2100000</td>\n",
              "      <td>1</td>\n",
              "      <td>1</td>\n",
              "      <td>1997</td>\n",
              "    </tr>\n",
              "    <tr>\n",
              "      <th>1</th>\n",
              "      <td>1</td>\n",
              "      <td>0</td>\n",
              "      <td>1</td>\n",
              "      <td>45321</td>\n",
              "      <td>Bolan</td>\n",
              "      <td>380000</td>\n",
              "      <td>1</td>\n",
              "      <td>1</td>\n",
              "      <td>2006</td>\n",
              "    </tr>\n",
              "    <tr>\n",
              "      <th>2</th>\n",
              "      <td>1</td>\n",
              "      <td>0</td>\n",
              "      <td>2</td>\n",
              "      <td>12345</td>\n",
              "      <td>Bolan</td>\n",
              "      <td>340000</td>\n",
              "      <td>1</td>\n",
              "      <td>1</td>\n",
              "      <td>1998</td>\n",
              "    </tr>\n",
              "    <tr>\n",
              "      <th>3</th>\n",
              "      <td>1</td>\n",
              "      <td>0</td>\n",
              "      <td>1</td>\n",
              "      <td>94000</td>\n",
              "      <td>Alto</td>\n",
              "      <td>535000</td>\n",
              "      <td>1</td>\n",
              "      <td>1</td>\n",
              "      <td>2010</td>\n",
              "    </tr>\n",
              "    <tr>\n",
              "      <th>4</th>\n",
              "      <td>2</td>\n",
              "      <td>0</td>\n",
              "      <td>1</td>\n",
              "      <td>45321</td>\n",
              "      <td>Corolla0XLI</td>\n",
              "      <td>1430000</td>\n",
              "      <td>1</td>\n",
              "      <td>1</td>\n",
              "      <td>2013</td>\n",
              "    </tr>\n",
              "    <tr>\n",
              "      <th>...</th>\n",
              "      <td>...</td>\n",
              "      <td>...</td>\n",
              "      <td>...</td>\n",
              "      <td>...</td>\n",
              "      <td>...</td>\n",
              "      <td>...</td>\n",
              "      <td>...</td>\n",
              "      <td>...</td>\n",
              "      <td>...</td>\n",
              "    </tr>\n",
              "    <tr>\n",
              "      <th>7849</th>\n",
              "      <td>2</td>\n",
              "      <td>0</td>\n",
              "      <td>2</td>\n",
              "      <td>200000</td>\n",
              "      <td>Corolla0XE</td>\n",
              "      <td>1070000</td>\n",
              "      <td>2</td>\n",
              "      <td>1</td>\n",
              "      <td>2001</td>\n",
              "    </tr>\n",
              "    <tr>\n",
              "      <th>7850</th>\n",
              "      <td>4</td>\n",
              "      <td>1</td>\n",
              "      <td>1</td>\n",
              "      <td>10000</td>\n",
              "      <td>Cuore</td>\n",
              "      <td>390000</td>\n",
              "      <td>1</td>\n",
              "      <td>1</td>\n",
              "      <td>2004</td>\n",
              "    </tr>\n",
              "    <tr>\n",
              "      <th>7851</th>\n",
              "      <td>16</td>\n",
              "      <td>0</td>\n",
              "      <td>2</td>\n",
              "      <td>158715</td>\n",
              "      <td>Other</td>\n",
              "      <td>180000</td>\n",
              "      <td>0</td>\n",
              "      <td>1</td>\n",
              "      <td>2000</td>\n",
              "    </tr>\n",
              "    <tr>\n",
              "      <th>7852</th>\n",
              "      <td>1</td>\n",
              "      <td>0</td>\n",
              "      <td>1</td>\n",
              "      <td>75236</td>\n",
              "      <td>Alto</td>\n",
              "      <td>470000</td>\n",
              "      <td>5</td>\n",
              "      <td>1</td>\n",
              "      <td>2003</td>\n",
              "    </tr>\n",
              "    <tr>\n",
              "      <th>7853</th>\n",
              "      <td>2</td>\n",
              "      <td>0</td>\n",
              "      <td>1</td>\n",
              "      <td>48500</td>\n",
              "      <td>Corolla0GLI</td>\n",
              "      <td>2050000</td>\n",
              "      <td>2</td>\n",
              "      <td>1</td>\n",
              "      <td>2017</td>\n",
              "    </tr>\n",
              "  </tbody>\n",
              "</table>\n",
              "<p>7854 rows × 9 columns</p>\n",
              "</div>"
            ],
            "text/plain": [
              "      Brand  Condition  Fuel  ...  Registered City Transaction Type  Year\n",
              "0         2          0     3  ...                1                1  1997\n",
              "1         1          0     1  ...                1                1  2006\n",
              "2         1          0     2  ...                1                1  1998\n",
              "3         1          0     1  ...                1                1  2010\n",
              "4         2          0     1  ...                1                1  2013\n",
              "...     ...        ...   ...  ...              ...              ...   ...\n",
              "7849      2          0     2  ...                2                1  2001\n",
              "7850      4          1     1  ...                1                1  2004\n",
              "7851     16          0     2  ...                0                1  2000\n",
              "7852      1          0     1  ...                5                1  2003\n",
              "7853      2          0     1  ...                2                1  2017\n",
              "\n",
              "[7854 rows x 9 columns]"
            ]
          },
          "metadata": {
            "tags": []
          },
          "execution_count": 11
        }
      ]
    },
    {
      "cell_type": "code",
      "metadata": {
        "colab": {
          "base_uri": "https://localhost:8080/",
          "height": 276
        },
        "id": "0X2ks70tr8wL",
        "outputId": "0b00549f-df7b-4647-abec-b23763288208"
      },
      "source": [
        "import matplotlib.pyplot as plt\r\n",
        "import pandas as pd\r\n",
        "cars = pd.read_csv('https://raw.githubusercontent.com/Shahzad-Siddiqui/data-science/main/OLX_Car_Data_CSV.csv')\r\n",
        "x = cars['Model']\r\n",
        "y = cars['Price']\r\n",
        "#function to plot (Visualize)\r\n",
        "plt.bar(x,y)\r\n",
        "#show\r\n",
        "plt.show()"
      ],
      "execution_count": 14,
      "outputs": [
        {
          "output_type": "display_data",
          "data": {
            "image/png": "[encoded data removed]",
            "text/plain": [
              "<Figure size 432x288 with 1 Axes>"
            ]
          },
          "metadata": {
            "tags": [],
            "needs_background": "light"
          }
        }
      ]
    },
    {
      "cell_type": "code",
      "metadata": {
        "id": "lKKuIDRcvh5T"
      },
      "source": [
        ""
      ],
      "execution_count": null,
      "outputs": []
    },
    {
      "cell_type": "code",
      "metadata": {
        "colab": {
          "base_uri": "https://localhost:8080/",
          "height": 279
        },
        "id": "78-3ZETwJBRl",
        "outputId": "e5938c84-ff70-47d2-82d0-a058d5dc8858"
      },
      "source": [
        "import pandas as pd\n",
        "import warnings\n",
        "warnings.filterwarnings(\"ignore\")\n",
        "import matplotlib.pyplot as plt\n",
        "import seaborn as sns\n",
        "cars_df = pd.read_csv(\"https://raw.githubusercontent.com/Shahzad-Siddiqui/data-science/main/OLX_Car_Data_CSV.csv\")\n",
        "\n",
        "sns.distplot(cars_df['Price'], kde = False)\n",
        "plt.show() "
      ],
      "execution_count": 15,
      "outputs": [
        {
          "output_type": "display_data",
          "data": {
            "image/png": "[encoded data removed]",
            "text/plain": [
              "<Figure size 432x288 with 1 Axes>"
            ]
          },
          "metadata": {
            "tags": [],
            "needs_background": "light"
          }
        }
      ]
    },
    {
      "cell_type": "code",
      "metadata": {
        "colab": {
          "base_uri": "https://localhost:8080/",
          "height": 307
        },
        "id": "yiItXEzuv7mj",
        "outputId": "e6a9fc6f-2e67-4bb8-d682-5c2d0eeaeae2"
      },
      "source": [
        "import pandas as pd\r\n",
        "import warnings\r\n",
        "warnings.filterwarnings(\"ignore\")\r\n",
        "import matplotlib.pyplot as plt\r\n",
        "import seaborn as sns\r\n",
        "cars_df = pd.read_csv(\"https://raw.githubusercontent.com/Shahzad-Siddiqui/data-science/main/OLX_Car_Data_CSV.csv\")\r\n",
        "sns.scatterplot (x=\"Model\", y=\"Price\", data = cars_df, hue =\"Condition\", style = \"Fuel\", size= \"Transaction Type\") "
      ],
      "execution_count": 16,
      "outputs": [
        {
          "output_type": "execute_result",
          "data": {
            "text/plain": [
              "<matplotlib.axes._subplots.AxesSubplot at 0x7f656f07d748>"
            ]
          },
          "metadata": {
            "tags": []
          },
          "execution_count": 16
        },
        {
          "output_type": "display_data",
          "data": {
            "image/png": "[encoded data removed]",
            "text/plain": [
              "<Figure size 432x288 with 1 Axes>"
            ]
          },
          "metadata": {
            "tags": [],
            "needs_background": "light"
          }
        }
      ]
    },
    {
      "cell_type": "code",
      "metadata": {
        "colab": {
          "base_uri": "https://localhost:8080/",
          "height": 1000
        },
        "id": "N_ZIsvxXxAWN",
        "outputId": "943e618c-b951-4359-d9ca-cb0401d70e19"
      },
      "source": [
        "import pandas as pd\r\n",
        "import warnings\r\n",
        "warnings.filterwarnings(\"ignore\")\r\n",
        "import matplotlib.pyplot as plt\r\n",
        "import seaborn as sns\r\n",
        "cars_df = pd.read_csv(\"https://raw.githubusercontent.com/Shahzad-Siddiqui/data-science/main/OLX_Car_Data_CSV.csv\")\r\n",
        "sns.pairplot (cars_df, hue = 'Price')\r\n"
      ],
      "execution_count": 18,
      "outputs": [
        {
          "output_type": "execute_result",
          "data": {
            "text/plain": [
              "<seaborn.axisgrid.PairGrid at 0x7f656f0d2780>"
            ]
          },
          "metadata": {
            "tags": []
          },
          "execution_count": 18
        },
        {
          "output_type": "display_data",
          "data": {
            "image/png": "[encoded data removed]",
            "text/plain": [
              "<Figure size 1312x1260 with 56 Axes>"
            ]
          },
          "metadata": {
            "tags": [],
            "needs_background": "light"
          }
        }
      ]
    }
  ]
}